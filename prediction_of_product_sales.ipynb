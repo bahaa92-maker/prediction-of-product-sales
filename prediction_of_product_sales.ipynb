{
  "nbformat": 4,
  "nbformat_minor": 0,
  "metadata": {
    "colab": {
      "provenance": [],
      "mount_file_id": "https://github.com/bahaa92-maker/prediction-of-product-sales/blob/main/prediction_of_product_sales.ipynb",
      "authorship_tag": "ABX9TyPjLaO9gvf4JK/LbE54uXom",
      "include_colab_link": true
    },
    "kernelspec": {
      "name": "python3",
      "display_name": "Python 3"
    },
    "language_info": {
      "name": "python"
    }
  },
  "cells": [
    {
      "cell_type": "markdown",
      "metadata": {
        "id": "view-in-github",
        "colab_type": "text"
      },
      "source": [
        "<a href=\"https://colab.research.google.com/github/bahaa92-maker/prediction-of-product-sales/blob/main/prediction_of_product_sales.ipynb\" target=\"_parent\"><img src=\"https://colab.research.google.com/assets/colab-badge.svg\" alt=\"Open In Colab\"/></a>"
      ]
    },
    {
      "cell_type": "markdown",
      "source": [
        "#\n",
        "prediction-of-product-sales\n",
        "\n",
        "      bahaa  saeed\n"
      ],
      "metadata": {
        "id": "EOrPOoUXmtqn"
      }
    },
    {
      "cell_type": "markdown",
      "source": [
        "## Project  over view"
      ],
      "metadata": {
        "id": "RTXzF_nOnd2Q"
      }
    },
    {
      "cell_type": "code",
      "source": [],
      "metadata": {
        "id": "mYLfdj4InuNh"
      },
      "execution_count": null,
      "outputs": []
    },
    {
      "cell_type": "markdown",
      "source": [
        "# load  and  ispect data"
      ],
      "metadata": {
        "id": "OKbD8qWGnxdR"
      }
    },
    {
      "cell_type": "code",
      "source": [
        "from google.colab import drive\n",
        "drive.mount('/content/drive')\n",
        "fpath  =\"\"\n"
      ],
      "metadata": {
        "id": "OWtYpr8on2tP",
        "outputId": "29cb1717-37d1-48af-e2b2-391285b645db",
        "colab": {
          "base_uri": "https://localhost:8080/"
        }
      },
      "execution_count": 3,
      "outputs": [
        {
          "output_type": "stream",
          "name": "stdout",
          "text": [
            "Drive already mounted at /content/drive; to attempt to forcibly remount, call drive.mount(\"/content/drive\", force_remount=True).\n"
          ]
        }
      ]
    },
    {
      "cell_type": "markdown",
      "source": [
        "# Clean data"
      ],
      "metadata": {
        "id": "vCJ--6Txn38R"
      }
    },
    {
      "cell_type": "code",
      "source": [],
      "metadata": {
        "id": "f9yUpIF2n7nY"
      },
      "execution_count": null,
      "outputs": []
    },
    {
      "cell_type": "markdown",
      "source": [
        "# Exploratary data analysis"
      ],
      "metadata": {
        "id": "UdNyMNB3n783"
      }
    },
    {
      "cell_type": "code",
      "source": [],
      "metadata": {
        "id": "VguAqnAqoFc4"
      },
      "execution_count": null,
      "outputs": []
    },
    {
      "cell_type": "markdown",
      "source": [
        "# Feature Inspection"
      ],
      "metadata": {
        "id": "WdBHjuuboHK5"
      }
    },
    {
      "cell_type": "code",
      "source": [],
      "metadata": {
        "id": "DaZonjuqoSAy"
      },
      "execution_count": null,
      "outputs": []
    }
  ]
}