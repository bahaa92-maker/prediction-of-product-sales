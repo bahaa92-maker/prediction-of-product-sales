{
  "nbformat": 4,
  "nbformat_minor": 0,
  "metadata": {
    "colab": {
      "provenance": [],
      "toc_visible": true,
      "authorship_tag": "ABX9TyNGk/hXkS+pV2+JDGKJ+60F",
      "include_colab_link": true
    },
    "kernelspec": {
      "name": "python3",
      "display_name": "Python 3"
    },
    "language_info": {
      "name": "python"
    }
  },
  "cells": [
    {
      "cell_type": "markdown",
      "metadata": {
        "id": "view-in-github",
        "colab_type": "text"
      },
      "source": [
        "<a href=\"https://colab.research.google.com/github/bahaa92-maker/prediction-of-product-sales/blob/main/prediction_of_product_sales.ipynb\" target=\"_parent\"><img src=\"https://colab.research.google.com/assets/colab-badge.svg\" alt=\"Open In Colab\"/></a>"
      ]
    },
    {
      "cell_type": "markdown",
      "source": [
        "#\n",
        "prediction-of-product-sales\n",
        "\n",
        "      bahaa  saeed\n"
      ],
      "metadata": {
        "id": "EOrPOoUXmtqn"
      }
    },
    {
      "cell_type": "markdown",
      "source": [
        "## Project  over view"
      ],
      "metadata": {
        "id": "RTXzF_nOnd2Q"
      }
    },
    {
      "cell_type": "code",
      "source": [],
      "metadata": {
        "id": "mYLfdj4InuNh"
      },
      "execution_count": null,
      "outputs": []
    },
    {
      "cell_type": "markdown",
      "source": [
        "# load  and  ispect data"
      ],
      "metadata": {
        "id": "OKbD8qWGnxdR"
      }
    },
    {
      "cell_type": "code",
      "source": [],
      "metadata": {
        "id": "OWtYpr8on2tP"
      },
      "execution_count": null,
      "outputs": []
    },
    {
      "cell_type": "markdown",
      "source": [
        "# Clean data"
      ],
      "metadata": {
        "id": "vCJ--6Txn38R"
      }
    },
    {
      "cell_type": "code",
      "source": [],
      "metadata": {
        "id": "f9yUpIF2n7nY"
      },
      "execution_count": null,
      "outputs": []
    },
    {
      "cell_type": "markdown",
      "source": [
        "# Exploratary data analysis"
      ],
      "metadata": {
        "id": "UdNyMNB3n783"
      }
    },
    {
      "cell_type": "code",
      "source": [],
      "metadata": {
        "id": "VguAqnAqoFc4"
      },
      "execution_count": null,
      "outputs": []
    },
    {
      "cell_type": "markdown",
      "source": [
        "# Feature Inspection"
      ],
      "metadata": {
        "id": "WdBHjuuboHK5"
      }
    },
    {
      "cell_type": "code",
      "source": [],
      "metadata": {
        "id": "DaZonjuqoSAy"
      },
      "execution_count": null,
      "outputs": []
    }
  ]
}